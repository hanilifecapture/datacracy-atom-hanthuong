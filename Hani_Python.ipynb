{
  "cells": [
    {
      "cell_type": "markdown",
      "metadata": {
        "id": "view-in-github",
        "colab_type": "text"
      },
      "source": [
        "<a href=\"https://colab.research.google.com/github/hanilifecapture/datacracy-atom-hanthuong/blob/main/Hani_Python.ipynb\" target=\"_parent\"><img src=\"https://colab.research.google.com/assets/colab-badge.svg\" alt=\"Open In Colab\"/></a>"
      ]
    },
    {
      "cell_type": "code",
      "execution_count": null,
      "metadata": {
        "colab": {
          "base_uri": "https://localhost:8080/"
        },
        "id": "h57eOp14ItIq",
        "outputId": "ca0bdc08-a665-4db3-a3b1-53ac253f5960"
      },
      "outputs": [
        {
          "name": "stdout",
          "output_type": "stream",
          "text": [
            "Hello Alice\n",
            "Hello Bob\n"
          ]
        }
      ],
      "source": [
        "def hello(name):\n",
        "  print('Hello '+name)\n",
        "\n",
        "hello('Alice')\n",
        "hello('Bob')"
      ]
    },
    {
      "cell_type": "code",
      "execution_count": null,
      "metadata": {
        "colab": {
          "base_uri": "https://localhost:8080/"
        },
        "id": "hbVbK68aKGf6",
        "outputId": "124f1c55-b63e-48b2-b856-2a4f564a1ed1"
      },
      "outputs": [
        {
          "name": "stdout",
          "output_type": "stream",
          "text": [
            "Please let me know your name:\n",
            "Hani\n",
            "Hello, Hani lets go hangout tonight?\n"
          ]
        }
      ],
      "source": [
        "def hello(name):\n",
        "  print('Hello, '+name+' lets go hangout tonight?')\n",
        "print('Please let me know your name:')\n",
        "name=input()\n",
        "hello(name)"
      ]
    },
    {
      "cell_type": "code",
      "execution_count": null,
      "metadata": {
        "colab": {
          "base_uri": "https://localhost:8080/"
        },
        "id": "XTyNUpt5VYy9",
        "outputId": "5af36744-744a-4839-83cd-b54846d101f5"
      },
      "outputs": [
        {
          "name": "stdout",
          "output_type": "stream",
          "text": [
            "635\n",
            "Oh yeah\n"
          ]
        }
      ],
      "source": [
        "import random\n",
        "\n",
        "def getAnswer(answerNumber):\n",
        "  if answerNumber == 1:\n",
        "    return 'It is certain'\n",
        "  elif answerNumber == 2:\n",
        "    return 'It is decidedly so'\n",
        "  elif answerNumber == 3:\n",
        "    return 'Yes'\n",
        "  elif answerNumber == 4:\n",
        "    return 'Reply hazy try again'\n",
        "  elif answerNumber == 5:\n",
        "    return 'Ask again later'\n",
        "  elif answerNumber == 6:\n",
        "    return 'Concentrate and ask again'\n",
        "  elif answerNumber == 7:\n",
        "    return 'My reply is no'\n",
        "  elif answerNumber == 8:\n",
        "    return 'Outlook not so good'\n",
        "  elif answerNumber == 9:\n",
        "    return 'Very doubtful'\n",
        "  else:\n",
        "    return 'Oh yeah'\n",
        "\n",
        "print(random.randint(1,1000))\n",
        "print(getAnswer(random.randint(1,1000)))"
      ]
    },
    {
      "cell_type": "code",
      "execution_count": null,
      "metadata": {
        "colab": {
          "base_uri": "https://localhost:8080/"
        },
        "id": "vjJaIQ2Vj6-M",
        "outputId": "42140ef3-03a0-401f-f681-abd9f794f9e8"
      },
      "outputs": [
        {
          "name": "stdout",
          "output_type": "stream",
          "text": [
            "351\n",
            "Oh yeah\n",
            "459\n",
            "Oh yeah\n"
          ]
        }
      ],
      "source": [
        "import random\n",
        "\n",
        "def getAnswer(answerNumber):\n",
        "  if answerNumber == 1:\n",
        "    return 'It is certain'\n",
        "  elif answerNumber == 2:\n",
        "    return 'It is decidedly so'\n",
        "  elif answerNumber == 3:\n",
        "    return 'Yes'\n",
        "  elif answerNumber == 4:\n",
        "    return 'Reply hazy try again'\n",
        "  elif answerNumber == 5:\n",
        "    return 'Ask again later'\n",
        "  elif answerNumber == 6:\n",
        "    return 'Concentrate and ask again'\n",
        "  elif answerNumber == 7:\n",
        "    return 'My reply is no'\n",
        "  elif answerNumber == 8:\n",
        "    return 'Outlook not so good'\n",
        "  elif answerNumber == 9:\n",
        "    return 'Very doubtful'\n",
        "  else:\n",
        "    return 'Oh yeah'\n",
        "\n",
        "print(random.randint(1,1000))\n",
        "print(getAnswer(random.randint(1,1000)))\n",
        "\n",
        "r = random.randint(1,1000)\n",
        "fortune = getAnswer(r)\n",
        "print(r)\n",
        "print(fortune)"
      ]
    },
    {
      "cell_type": "code",
      "execution_count": null,
      "metadata": {
        "colab": {
          "base_uri": "https://localhost:8080/"
        },
        "id": "1rnQ6gqjiFlp",
        "outputId": "98a5834d-8516-4cd6-f242-10dc6645408f"
      },
      "outputs": [
        {
          "name": "stdout",
          "output_type": "stream",
          "text": [
            "43\n"
          ]
        }
      ],
      "source": [
        "import random\n",
        "print(random.randint(1,100))"
      ]
    },
    {
      "cell_type": "code",
      "execution_count": null,
      "metadata": {
        "colab": {
          "base_uri": "https://localhost:8080/"
        },
        "id": "omTWr45yl0Lc",
        "outputId": "089d320c-4899-4290-cbd9-3650eaebdf49"
      },
      "outputs": [
        {
          "name": "stdout",
          "output_type": "stream",
          "text": [
            "Hello World\n",
            "cat dog mice\n",
            "cat.dog.mice\n",
            "cat...dog...mice\n"
          ]
        }
      ],
      "source": [
        "print('Hello ', end= '')\n",
        "print('World')\n",
        "\n",
        "print('cat', 'dog', 'mice')\n",
        "print('cat', 'dog', 'mice', sep='.')\n",
        "print('cat', 'dog', 'mice', sep='...')"
      ]
    },
    {
      "cell_type": "code",
      "execution_count": null,
      "metadata": {
        "colab": {
          "base_uri": "https://localhost:8080/"
        },
        "id": "PzApro5IsFC2",
        "outputId": "011e667b-8601-401a-9fb4-d365902522a9"
      },
      "outputs": [
        {
          "name": "stdout",
          "output_type": "stream",
          "text": [
            "100\n",
            "100\n",
            "hello 100100100100100\n",
            "HelloHelloHelloHelloHello\n"
          ]
        }
      ],
      "source": [
        "def spam():\n",
        "  print(eggs)\n",
        "eggs = input()\n",
        "spam()\n",
        "print('hello '+eggs*5)\n",
        "print('Hello'*5)"
      ]
    },
    {
      "cell_type": "code",
      "execution_count": null,
      "metadata": {
        "id": "FmsM63AJSAo1"
      },
      "outputs": [],
      "source": [
        "# writing functions without global variables is encouraged :v"
      ]
    },
    {
      "cell_type": "code",
      "execution_count": null,
      "metadata": {
        "colab": {
          "base_uri": "https://localhost:8080/"
        },
        "id": "rQ9_kRZtStGl",
        "outputId": "6900b190-71cd-4fc7-c8dd-d94078944083"
      },
      "outputs": [
        {
          "name": "stdout",
          "output_type": "stream",
          "text": [
            "21.0\n",
            "3.5\n",
            "0.42\n",
            "28.0\n"
          ]
        }
      ],
      "source": [
        "def spam(divideBy):\n",
        "  return 42 / divideBy\n",
        "\n",
        "print(spam(2))\n",
        "print(spam(12))\n",
        "print(spam(100))\n",
        "print(spam(1.5))"
      ]
    },
    {
      "cell_type": "code",
      "execution_count": null,
      "metadata": {
        "colab": {
          "background_save": true,
          "base_uri": "https://localhost:8080/"
        },
        "id": "HRRfh0MlVm1c",
        "outputId": "b86dbfed-7283-445e-a06a-ea250ec29155"
      },
      "outputs": [
        {
          "name": "stdout",
          "output_type": "stream",
          "text": [
            "I am thinking of a number between 1 and 50\n",
            "Take a guess.\n",
            "Your guess is too high.\n",
            "Take a guess.\n",
            "Your guess is too high.\n",
            "Take a guess.\n"
          ]
        }
      ],
      "source": [
        "# This is a guess the number game.\n",
        "import random\n",
        "secretNumber = random.randint(1,50)\n",
        "print('I am thinking of a number between 1 and 50')\n",
        "\n",
        "# Ask the player to guess 5 times.\n",
        "for guessesTaken in range(1,6):\n",
        "  print('Take a guess.')\n",
        "  guess = int(input())\n",
        "\n",
        "  if guess < secretNumber:\n",
        "      print('Your guess is too low.')\n",
        "  elif guess > secretNumber:\n",
        "      print('Your guess is too high.')\n",
        "  else:\n",
        "      break # This condition is the correct guess!\n",
        "\n",
        "if guess == secretNumber:\n",
        "  print('Good job! You guessed my number in ' + str(guessesTaken) + ' guesses')\n",
        "else:\n",
        "  print('Nope. The number I was thinking of was ' + str(secretNumber))\n"
      ]
    },
    {
      "cell_type": "code",
      "execution_count": null,
      "metadata": {
        "id": "U_pA4JTkaOlf"
      },
      "outputs": [],
      "source": [
        "import random\n",
        "randomNumber = random.randint(1,50)\n",
        "print('I am thinking a number from 1 to 50')\n",
        "\n",
        "# Ask player to guess 6 times\n",
        "for guessesTaken in range(1,7):\n",
        "  print('Take a guess!')\n",
        "  guess = int(input())\n",
        "\n",
        "  if guess > randomNumber:\n",
        "    print('Oh no, I take a too-high guess. Try it again!')\n",
        "  elif guess < randomNumber:\n",
        "    print('Hmmm, too low this time. Shoot a better try!')\n",
        "  else:\n",
        "    break # This is a correct answer\n",
        "\n",
        "if guess == randomNumber:\n",
        "  print('Well done bae, you got the correct guess in ' + str(guessesTaken) + ' times')\n",
        "else:\n",
        "  print('I am sorry for the wrong guessing. The correct is ' + str(randomNumber))"
      ]
    },
    {
      "cell_type": "code",
      "source": [
        "[1,2,3,4]\n",
        "['cat', 'bat', 'rat', 'elephant']\n",
        "['hello', True, 100]\n",
        "spam = ['cat', 'bat', 'rat', 'elephant']\n",
        "spam\n",
        "spam [0]\n",
        "'Hello ' + spam [1]"
      ],
      "metadata": {
        "colab": {
          "base_uri": "https://localhost:8080/",
          "height": 37
        },
        "id": "Fnf7wMekMWWr",
        "outputId": "89f3dd1d-1ce6-4acb-a7fa-cd799f1a85a8"
      },
      "execution_count": null,
      "outputs": [
        {
          "output_type": "execute_result",
          "data": {
            "application/vnd.google.colaboratory.intrinsic+json": {
              "type": "string"
            },
            "text/plain": [
              "'Hello bat'"
            ]
          },
          "metadata": {},
          "execution_count": 7
        }
      ]
    },
    {
      "cell_type": "code",
      "source": [
        "spam = ['cat', 'bat', 'rat', 'elephant']\n",
        "spam[1:3]"
      ],
      "metadata": {
        "colab": {
          "base_uri": "https://localhost:8080/"
        },
        "id": "BKX1i_nXM7_R",
        "outputId": "160a7cb6-7247-4470-9fbb-d76dc526c608"
      },
      "execution_count": null,
      "outputs": [
        {
          "output_type": "execute_result",
          "data": {
            "text/plain": [
              "['bat', 'rat']"
            ]
          },
          "metadata": {},
          "execution_count": 10
        }
      ]
    },
    {
      "cell_type": "code",
      "source": [
        "spam = ['cat', 'bat', 'rat', 'elephant']\n",
        "spam.index('bat')\n",
        "spam.append('moose')\n",
        "spam\n",
        "spam.insert(1, 'chicken')\n",
        "spam\n",
        "spam.remove('rat')\n",
        "spam\n",
        "spam.sort()\n",
        "spam\n",
        "spam.sort(reverse=True)\n",
        "spam\n",
        "spam.sort(key=str.lower)\n",
        "spam\n",
        "del spam [2]\n",
        "spam"
      ],
      "metadata": {
        "colab": {
          "base_uri": "https://localhost:8080/"
        },
        "id": "GIqynJYeO_ui",
        "outputId": "580f85ee-7cde-4db3-ed5e-665b6fede6b9"
      },
      "execution_count": null,
      "outputs": [
        {
          "output_type": "execute_result",
          "data": {
            "text/plain": [
              "['bat', 'cat', 'elephant', 'moose']"
            ]
          },
          "metadata": {},
          "execution_count": 27
        }
      ]
    },
    {
      "cell_type": "code",
      "source": [
        "list('hello')"
      ],
      "metadata": {
        "colab": {
          "base_uri": "https://localhost:8080/"
        },
        "id": "b1uEqBwrRDxi",
        "outputId": "fad3fb72-4db4-485c-892e-991b1729e646"
      },
      "execution_count": null,
      "outputs": [
        {
          "output_type": "execute_result",
          "data": {
            "text/plain": [
              "['h', 'e', 'l', 'l', 'o']"
            ]
          },
          "metadata": {},
          "execution_count": 28
        }
      ]
    },
    {
      "cell_type": "code",
      "source": [
        "list(('hello','how','are','you'))"
      ],
      "metadata": {
        "colab": {
          "base_uri": "https://localhost:8080/"
        },
        "id": "9FeIaPSzRKUG",
        "outputId": "e284770b-1b99-4388-99fd-9754969e9569"
      },
      "execution_count": null,
      "outputs": [
        {
          "output_type": "execute_result",
          "data": {
            "text/plain": [
              "['hello', 'how', 'are', 'you']"
            ]
          },
          "metadata": {},
          "execution_count": 30
        }
      ]
    },
    {
      "cell_type": "code",
      "source": [
        "myCat={'size':'fat', 'color':'gray', 'disposition':'loud'}\n",
        "myCat['size']\n",
        "myCat['color']\n",
        "myCat['disposition']\n",
        "print('hello, it is a '+myCat['color']+' cat on earth.')\n",
        "'hello, it is a '+myCat['color']+' cat on earth.'"
      ],
      "metadata": {
        "colab": {
          "base_uri": "https://localhost:8080/",
          "height": 54
        },
        "id": "3CxNFjUP6Dip",
        "outputId": "9d52f968-ff42-429b-f844-1b60483d062e"
      },
      "execution_count": null,
      "outputs": [
        {
          "output_type": "stream",
          "name": "stdout",
          "text": [
            "hello, it is a gray cat on earth.\n"
          ]
        },
        {
          "output_type": "execute_result",
          "data": {
            "application/vnd.google.colaboratory.intrinsic+json": {
              "type": "string"
            },
            "text/plain": [
              "'hello, it is a gray cat on earth.'"
            ]
          },
          "metadata": {},
          "execution_count": 4
        }
      ]
    },
    {
      "cell_type": "code",
      "source": [
        "spam={12345:'syntax error',45:'true'}\n",
        "print(spam[12345])"
      ],
      "metadata": {
        "colab": {
          "base_uri": "https://localhost:8080/"
        },
        "id": "cyE3kRM_7F8I",
        "outputId": "fcb141c2-c762-422c-b06a-40282d7a88fd"
      },
      "execution_count": null,
      "outputs": [
        {
          "output_type": "stream",
          "name": "stdout",
          "text": [
            "syntax error\n"
          ]
        }
      ]
    },
    {
      "cell_type": "code",
      "source": [
        "myCat=['fat','gray','loud']\n",
        "myMeow=['gray','loud','fat']\n",
        "myCat == myMeow"
      ],
      "metadata": {
        "colab": {
          "base_uri": "https://localhost:8080/"
        },
        "id": "-IZRXcCC8K_d",
        "outputId": "d6322d00-b105-4f1f-d339-4416a36be764"
      },
      "execution_count": null,
      "outputs": [
        {
          "output_type": "execute_result",
          "data": {
            "text/plain": [
              "False"
            ]
          },
          "metadata": {},
          "execution_count": 7
        }
      ]
    },
    {
      "cell_type": "code",
      "source": [
        "myCat={'size':'fat','color':'gray','disposition':'loud'}\n",
        "myMeow={'color':'gray','disposition':'loud','size':'fat'}\n",
        "myCat == myMeow"
      ],
      "metadata": {
        "colab": {
          "base_uri": "https://localhost:8080/"
        },
        "id": "UruTQs5m8Z2h",
        "outputId": "a91e374e-1b77-47d0-fb77-714fb13d8180"
      },
      "execution_count": null,
      "outputs": [
        {
          "output_type": "execute_result",
          "data": {
            "text/plain": [
              "True"
            ]
          },
          "metadata": {},
          "execution_count": 8
        }
      ]
    },
    {
      "cell_type": "code",
      "source": [
        "birthdays={'Hani':'Sep 4', 'Yoon':'Feb 4', 'Jaejoong':'Feb 2'}\n",
        "\n",
        "while True:\n",
        "  print('Enter your name: (blank to quit)')\n",
        "  name=input()\n",
        "  if name == '':\n",
        "    break\n",
        "\n",
        "  if name in birthdays:\n",
        "    print(birthdays[name]+' is the birthday of '+name)\n",
        "  else:\n",
        "    print('I do not have information for '+name)\n",
        "    print('What is their birthday?')\n",
        "    bday=input()\n",
        "    birthdays[name]=bday\n",
        "    print('Birthday database updated.')"
      ],
      "metadata": {
        "colab": {
          "base_uri": "https://localhost:8080/"
        },
        "id": "Bix5YLTv_ErH",
        "outputId": "94314744-aa19-4b40-94e3-5b63bf743244"
      },
      "execution_count": null,
      "outputs": [
        {
          "name": "stdout",
          "output_type": "stream",
          "text": [
            "Enter your name: (blank to quit)\n",
            "Hing\n",
            "I do not have information for Hing\n",
            "What is their birthday?\n",
            "Feb 12\n",
            "Birthday database updated.\n",
            "Enter your name: (blank to quit)\n",
            "\n"
          ]
        }
      ]
    },
    {
      "cell_type": "code",
      "source": [
        "spam = {'color': 'ahihimeowmeow', 'age': 100, 'likert': 2059}\n",
        "for v in spam.values():\n",
        "    print(v)"
      ],
      "metadata": {
        "colab": {
          "base_uri": "https://localhost:8080/"
        },
        "id": "gjaedO1RhweB",
        "outputId": "13cca0fa-3824-4154-f69d-99f502ab9060"
      },
      "execution_count": null,
      "outputs": [
        {
          "output_type": "stream",
          "name": "stdout",
          "text": [
            "ahihimeowmeow\n",
            "100\n",
            "2059\n"
          ]
        }
      ]
    },
    {
      "cell_type": "code",
      "source": [
        "birthdays = {'Hani': 'Sep 4', 'Yoon': 'Feb 4', 'JJ': 'Feb 2'}\n",
        "for v in birthdays.values():\n",
        "    print(v)\n",
        "\n",
        "for k in birthdays.keys():\n",
        "    print(k)\n",
        "\n",
        "for i in birthdays.items():\n",
        "    print(i)"
      ],
      "metadata": {
        "colab": {
          "base_uri": "https://localhost:8080/"
        },
        "id": "NSam1XuBiay7",
        "outputId": "9d341a11-6581-41eb-b92b-b101bbfd2e99"
      },
      "execution_count": null,
      "outputs": [
        {
          "output_type": "stream",
          "name": "stdout",
          "text": [
            "Sep 4\n",
            "Feb 4\n",
            "Feb 2\n",
            "Hani\n",
            "Yoon\n",
            "JJ\n",
            "('Hani', 'Sep 4')\n",
            "('Yoon', 'Feb 4')\n",
            "('JJ', 'Feb 2')\n"
          ]
        }
      ]
    },
    {
      "cell_type": "code",
      "source": [
        "birthdays = {'Hani': 'Sep 4', 'Yoon': 'Feb 4', 'JJ': 'Feb 2'}\n",
        "for k in birthdays.keys():\n",
        "    print(k)"
      ],
      "metadata": {
        "colab": {
          "base_uri": "https://localhost:8080/"
        },
        "id": "qb2aFtOPkiV7",
        "outputId": "6bad8428-6d4e-4423-da94-3ca54bb35f19"
      },
      "execution_count": null,
      "outputs": [
        {
          "output_type": "stream",
          "name": "stdout",
          "text": [
            "Hani\n",
            "Yoon\n",
            "JJ\n"
          ]
        }
      ]
    },
    {
      "cell_type": "code",
      "source": [
        "picnicItems={'apples': 5, 'cups': 2}\n",
        "print('I am bringing ' + str(picnicItems.get('cups',0)) + ' cups.')\n",
        "print('I am bringing ' + str(picnicItems.get('eggs',0)) + ' eggs.')"
      ],
      "metadata": {
        "colab": {
          "base_uri": "https://localhost:8080/"
        },
        "id": "GxiiXkgYlooi",
        "outputId": "d167181b-47cf-4623-ab41-aad0d3a45513"
      },
      "execution_count": null,
      "outputs": [
        {
          "output_type": "stream",
          "name": "stdout",
          "text": [
            "I am bringing 2 cups.\n",
            "I am bringing 0 eggs.\n"
          ]
        }
      ]
    },
    {
      "cell_type": "code",
      "source": [
        "spam = {'name': 'Pooka', 'age': 5}\n",
        "if 'color' not in spam:\n",
        "  spam['color'] = 'black'\n",
        "print(spam['color'])\n",
        "\n",
        "if 'nation' not in spam:\n",
        "  spam['nation'] = 'Vietnam'\n",
        "print(spam['nation']+' '+spam['color'] + ' ' + spam['name'] +' '+ str(spam['age']))"
      ],
      "metadata": {
        "colab": {
          "base_uri": "https://localhost:8080/"
        },
        "id": "Sdbdq3twm8AP",
        "outputId": "3b951e1e-6042-4cde-f68d-41812e4835df"
      },
      "execution_count": null,
      "outputs": [
        {
          "output_type": "stream",
          "name": "stdout",
          "text": [
            "black\n",
            "Vietnam black Pooka 5\n"
          ]
        }
      ]
    },
    {
      "cell_type": "code",
      "source": [
        "spam = {'name': 'Pooka', 'age': 5}\n",
        "spam.setdefault('color', 'black')\n",
        "spam.setdefault('skin', 'tropical')\n",
        "spam\n"
      ],
      "metadata": {
        "colab": {
          "base_uri": "https://localhost:8080/"
        },
        "id": "RWW0jfWxIeo6",
        "outputId": "86044466-4f91-4211-c9e5-d429544a11ed"
      },
      "execution_count": null,
      "outputs": [
        {
          "output_type": "execute_result",
          "data": {
            "text/plain": [
              "{'age': 5, 'color': 'black', 'name': 'Pooka', 'skin': 'tropical'}"
            ]
          },
          "metadata": {},
          "execution_count": 35
        }
      ]
    },
    {
      "cell_type": "code",
      "source": [
        "import pprint\n",
        "message = 'It was a bright cold day in April, and the clocks were striking thirteen.'\n",
        "count = {}\n",
        "\n",
        "for character in message:\n",
        "    count.setdefault(character, 0)\n",
        "    count[character] = count[character]+1\n",
        "\n",
        "pprint.pprint(count)"
      ],
      "metadata": {
        "colab": {
          "base_uri": "https://localhost:8080/"
        },
        "id": "6lj4Ij3UJd46",
        "outputId": "6ff1bfeb-9d8d-4b5f-80f1-54025a82557d"
      },
      "execution_count": null,
      "outputs": [
        {
          "output_type": "stream",
          "name": "stdout",
          "text": [
            "{' ': 13,\n",
            " ',': 1,\n",
            " '.': 1,\n",
            " 'A': 1,\n",
            " 'I': 1,\n",
            " 'a': 4,\n",
            " 'b': 1,\n",
            " 'c': 3,\n",
            " 'd': 3,\n",
            " 'e': 5,\n",
            " 'g': 2,\n",
            " 'h': 3,\n",
            " 'i': 6,\n",
            " 'k': 2,\n",
            " 'l': 3,\n",
            " 'n': 4,\n",
            " 'o': 2,\n",
            " 'p': 1,\n",
            " 'r': 5,\n",
            " 's': 3,\n",
            " 't': 6,\n",
            " 'w': 2,\n",
            " 'y': 1}\n"
          ]
        }
      ]
    },
    {
      "cell_type": "code",
      "source": [
        "import pprint\n",
        "message = 'hello its a new year of the whole universe'\n",
        "\n",
        "pprint(message)"
      ],
      "metadata": {
        "colab": {
          "base_uri": "https://localhost:8080/",
          "height": 198
        },
        "id": "NSlkQqJcuM_m",
        "outputId": "61ab6076-0f17-49d1-8885-aa055ec20864"
      },
      "execution_count": null,
      "outputs": [
        {
          "output_type": "error",
          "ename": "TypeError",
          "evalue": "ignored",
          "traceback": [
            "\u001b[0;31m---------------------------------------------------------------------------\u001b[0m",
            "\u001b[0;31mTypeError\u001b[0m                                 Traceback (most recent call last)",
            "\u001b[0;32m<ipython-input-4-143e1616c475>\u001b[0m in \u001b[0;36m<module>\u001b[0;34m()\u001b[0m\n\u001b[1;32m      2\u001b[0m \u001b[0mmessage\u001b[0m \u001b[0;34m=\u001b[0m \u001b[0;34m'hello its a new year of the whole universe'\u001b[0m\u001b[0;34m\u001b[0m\u001b[0;34m\u001b[0m\u001b[0m\n\u001b[1;32m      3\u001b[0m \u001b[0;34m\u001b[0m\u001b[0m\n\u001b[0;32m----> 4\u001b[0;31m \u001b[0mpprint\u001b[0m\u001b[0;34m(\u001b[0m\u001b[0mmessage\u001b[0m\u001b[0;34m)\u001b[0m\u001b[0;34m\u001b[0m\u001b[0;34m\u001b[0m\u001b[0m\n\u001b[0m",
            "\u001b[0;31mTypeError\u001b[0m: 'module' object is not callable"
          ]
        }
      ]
    },
    {
      "cell_type": "code",
      "source": [
        "print('How are you?')\n",
        "feeling = input()\n",
        "if feeling.islower() == 'great':\n",
        "  print('I feel great too.')\n",
        "else:\n",
        "  print('I hope the rest of your day is good')"
      ],
      "metadata": {
        "colab": {
          "base_uri": "https://localhost:8080/"
        },
        "id": "UkeXu7Fbohj4",
        "outputId": "75b01105-9017-47c6-8f0e-587709636af2"
      },
      "execution_count": 6,
      "outputs": [
        {
          "output_type": "stream",
          "name": "stdout",
          "text": [
            "How are you?\n",
            "Good\n",
            "I hope the rest of your day is good\n"
          ]
        }
      ]
    }
  ],
  "metadata": {
    "colab": {
      "name": "Hani@Python.ipynb",
      "provenance": [],
      "authorship_tag": "ABX9TyPMhyzv8n1xdlIjihWqMglW",
      "include_colab_link": true
    },
    "kernelspec": {
      "display_name": "Python 3",
      "name": "python3"
    },
    "language_info": {
      "name": "python"
    }
  },
  "nbformat": 4,
  "nbformat_minor": 0
}